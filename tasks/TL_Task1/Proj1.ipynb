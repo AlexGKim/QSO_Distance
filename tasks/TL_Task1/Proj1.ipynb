{
 "cells": [
  {
   "cell_type": "code",
   "execution_count": 2,
   "metadata": {},
   "outputs": [],
   "source": [
    "import pickle as pkl\n",
    "import pandas as pd\n",
    "import h5py\n",
    "import numpy as np"
   ]
  },
  {
   "cell_type": "code",
   "execution_count": 5,
   "metadata": {},
   "outputs": [],
   "source": [
    "def weightedMean(data, weights):\n",
    "    n = len(data)\n",
    "    sum = 0\n",
    "    sum_weights = 0\n",
    "    \n",
    "    for i in range(len(data)):\n",
    "        weight = 1 / (weights[i]**2)\n",
    "        sum_weights += weight\n",
    "\n",
    "        sum += weight * data[i]\n",
    "\n",
    "    wmean = sum/sum_weights\n",
    "    wmean_err = np.sqrt(1/sum_weights)\n",
    "    return wmean, wmean_err\n"
   ]
  },
  {
   "cell_type": "code",
   "execution_count": 8,
   "metadata": {},
   "outputs": [
    {
     "data": {
      "text/plain": [
       "(21.069607680019818, 0.017893309106714866)"
      ]
     },
     "execution_count": 8,
     "metadata": {},
     "output_type": "execute_result"
    }
   ],
   "source": [
    "weightedMean(np.asarray(load[\"39628317598419115\"][\"g\"][\"mag\"]), np.asarray(load[\"39628317598419115\"][\"g\"][\"magerr\"]))"
   ]
  },
  {
   "cell_type": "code",
   "execution_count": 4,
   "metadata": {},
   "outputs": [
    {
     "data": {
      "text/plain": [
       "array([0.21379364, 0.19413924, 0.19629955, 0.20596242, 0.20528293,\n",
       "       0.24157786, 0.21401441, 0.22015917, 0.23299503, 0.22446263,\n",
       "       0.10899139, 0.19987881, 0.21846795, 0.2206409 , 0.20379746,\n",
       "       0.18444276, 0.23571992, 0.20592856, 0.20933008, 0.20421195,\n",
       "       0.21042633, 0.21563578, 0.22534776, 0.19132733, 0.19721746,\n",
       "       0.19580948, 0.19212878, 0.19247925, 0.20318687, 0.22285879,\n",
       "       0.21656251, 0.22471476, 0.12759912, 0.21527684, 0.19815755,\n",
       "       0.19953501, 0.1960411 , 0.21316361, 0.22305524, 0.18736923,\n",
       "       0.20640409, 0.22876024, 0.23802948, 0.20763814, 0.21647286,\n",
       "       0.21499228, 0.21924245, 0.19664979, 0.2043556 , 0.2212193 ,\n",
       "       0.2206608 , 0.21039677, 0.18881392, 0.19502914, 0.19436276,\n",
       "       0.19914794, 0.2013402 , 0.19872999, 0.22864807, 0.21084046,\n",
       "       0.20700204, 0.19529831, 0.21204829, 0.17838788, 0.22491312,\n",
       "       0.20559287, 0.2172792 , 0.19777119, 0.20111215, 0.21956813,\n",
       "       0.2063086 , 0.18333101, 0.22232568, 0.19320858, 0.2063998 ,\n",
       "       0.21067047, 0.21490371, 0.20603192, 0.20864058, 0.20526826,\n",
       "       0.22123516, 0.22232997, 0.21281314, 0.20010662, 0.2193973 ,\n",
       "       0.20760882, 0.20243442, 0.2441678 , 0.22274172, 0.22469258,\n",
       "       0.21141994, 0.21229029, 0.20083404, 0.17319012, 0.2190857 ,\n",
       "       0.19716549, 0.20155156, 0.20988584, 0.21658587, 0.21677077,\n",
       "       0.22708619, 0.21976471, 0.218027  , 0.23426771, 0.19959128,\n",
       "       0.21098602, 0.21303415, 0.20808113, 0.21851468, 0.19883668,\n",
       "       0.20662403, 0.19030058, 0.19567382, 0.20249724, 0.2077384 ,\n",
       "       0.18810177, 0.0934894 , 0.20108771, 0.17203712, 0.20334697,\n",
       "       0.20947373, 0.19795358, 0.20157933, 0.21409571, 0.21610367,\n",
       "       0.19311118], dtype=float32)"
      ]
     },
     "execution_count": 4,
     "metadata": {},
     "output_type": "execute_result"
    }
   ],
   "source": [
    "hdf_path = \"data/lc/000620.hdf5\"\n",
    "load = h5py.File(hdf_path, 'r')\n",
    "np.array(load[\"39628317598419115\"][\"g\"][\"magerr\"])"
   ]
  },
  {
   "cell_type": "markdown",
   "metadata": {},
   "source": [
    "## Old Testing"
   ]
  },
  {
   "cell_type": "code",
   "execution_count": 9,
   "metadata": {},
   "outputs": [
    {
     "data": {
      "text/plain": [
       "dict_keys(['GalaxyAE', 'StarAE'])"
      ]
     },
     "execution_count": 9,
     "metadata": {},
     "output_type": "execute_result"
    }
   ],
   "source": [
    "path = \"data/bgs_latent_space_params/BGS_full_info.pkl\"\n",
    "with open(path,'rb') as f:\n",
    "\tfile = pkl.load(f)\n",
    "\n",
    "file.keys()"
   ]
  },
  {
   "cell_type": "code",
   "execution_count": 68,
   "metadata": {},
   "outputs": [
    {
     "data": {
      "text/html": [
       "<div>\n",
       "<style scoped>\n",
       "    .dataframe tbody tr th:only-of-type {\n",
       "        vertical-align: middle;\n",
       "    }\n",
       "\n",
       "    .dataframe tbody tr th {\n",
       "        vertical-align: top;\n",
       "    }\n",
       "\n",
       "    .dataframe thead th {\n",
       "        text-align: right;\n",
       "    }\n",
       "</style>\n",
       "<table border=\"1\" class=\"dataframe\">\n",
       "  <thead>\n",
       "    <tr style=\"text-align: right;\">\n",
       "      <th></th>\n",
       "      <th>targetid</th>\n",
       "      <th>night</th>\n",
       "      <th>mjd</th>\n",
       "    </tr>\n",
       "  </thead>\n",
       "  <tbody>\n",
       "    <tr>\n",
       "      <th>1259528</th>\n",
       "      <td>39628323189425424</td>\n",
       "      <td>20220219</td>\n",
       "      <td>59630.277484</td>\n",
       "    </tr>\n",
       "  </tbody>\n",
       "</table>\n",
       "</div>"
      ],
      "text/plain": [
       "                  targetid     night           mjd\n",
       "1259528  39628323189425424  20220219  59630.277484"
      ]
     },
     "execution_count": 68,
     "metadata": {},
     "output_type": "execute_result"
    }
   ],
   "source": [
    "dates_path = \"data/dates.hdf5\"\n",
    "pd_dates = pd.read_hdf(dates_path)\n",
    "pd_dates[pd_dates[\"targetid\"] == 39628323189425424]"
   ]
  },
  {
   "cell_type": "code",
   "execution_count": 104,
   "metadata": {},
   "outputs": [
    {
     "data": {
      "text/plain": [
       "Index(['targetid', 'night', 'mjd'], dtype='object')"
      ]
     },
     "execution_count": 104,
     "metadata": {},
     "output_type": "execute_result"
    }
   ],
   "source": [
    "dates_path = \"data/dates.hdf5\"\n",
    "pd_dates = pd.read_hdf(dates_path)\n",
    "pd_dates.keys() "
   ]
  },
  {
   "cell_type": "code",
   "execution_count": 40,
   "metadata": {},
   "outputs": [
    {
     "data": {
      "text/plain": [
       "<KeysViewHDF5 ['axis0', 'axis1', 'block0_items', 'block0_values', 'block1_items', 'block1_values']>"
      ]
     },
     "execution_count": 40,
     "metadata": {},
     "output_type": "execute_result"
    }
   ],
   "source": [
    "dates_path = \"data/dates.hdf5\"\n",
    "load = h5py.File(dates_path, 'r')\n",
    "load[\"df\"].keys()\n"
   ]
  },
  {
   "cell_type": "code",
   "execution_count": 24,
   "metadata": {},
   "outputs": [
    {
     "data": {
      "text/plain": [
       "(7372,)"
      ]
     },
     "execution_count": 24,
     "metadata": {},
     "output_type": "execute_result"
    }
   ],
   "source": [
    "index_path = \"data/targetidLC.hdf5\"\n",
    "load = h5py.File(index_path, 'r')\n",
    "np.asarray(load[\"pbook\"][\"targetids\"]).shape"
   ]
  },
  {
   "cell_type": "code",
   "execution_count": 137,
   "metadata": {},
   "outputs": [
    {
     "data": {
      "text/plain": [
       "632"
      ]
     },
     "execution_count": 137,
     "metadata": {},
     "output_type": "execute_result"
    }
   ],
   "source": [
    "hdf_path = \"data/lc/000620.hdf5\"\n",
    "load = h5py.File(hdf_path, 'r')\n",
    "load.keys()"
   ]
  },
  {
   "cell_type": "code",
   "execution_count": 7,
   "metadata": {},
   "outputs": [],
   "source": [
    "for i in range(10):\n",
    "    hdf_path = f\"data/lc/00062{i}.hdf5\"\n",
    "    \n",
    "    load = h5py.File(hdf_path, 'r')\n",
    "    for key in load.keys():\n",
    "        length = len(np.array(load[key][\"r\"])) + len(np.array(load[key][\"g\"])) + len(np.array(load[key][\"i\"]))\n",
    "        if length > 4:\n",
    "            print(\"multiple channels found\")\n"
   ]
  },
  {
   "cell_type": "code",
   "execution_count": 145,
   "metadata": {},
   "outputs": [
    {
     "name": "stdout",
     "output_type": "stream",
     "text": [
      "hit\n"
     ]
    }
   ],
   "source": [
    "key = '39628317598419503'\n",
    "for i in range(10):\n",
    "    hdf_path = f\"data/lc/00062{i}.hdf5\"\n",
    "    load = h5py.File(hdf_path, 'r')\n",
    "    try:\n",
    "        load[key]\n",
    "        print(\"hit\")\n",
    "    except Exception:\n",
    "        continue"
   ]
  },
  {
   "cell_type": "code",
   "execution_count": 3,
   "metadata": {},
   "outputs": [],
   "source": [
    "keys = set()\n",
    "\n",
    "for i in range(10):\n",
    "    hdf_path = f\"data/lc/00062{i}.hdf5\"\n",
    "    load = h5py.File(hdf_path, 'r')\n",
    "    for key in load.keys():\n",
    "        if key in keys:\n",
    "            print(\"hit\")\n",
    "        else:\n",
    "            keys.add(key)"
   ]
  }
 ],
 "metadata": {
  "kernelspec": {
   "display_name": "Python 3",
   "language": "python",
   "name": "python3"
  },
  "language_info": {
   "codemirror_mode": {
    "name": "ipython",
    "version": 3
   },
   "file_extension": ".py",
   "mimetype": "text/x-python",
   "name": "python",
   "nbconvert_exporter": "python",
   "pygments_lexer": "ipython3",
   "version": "3.10.5"
  },
  "orig_nbformat": 4
 },
 "nbformat": 4,
 "nbformat_minor": 2
}
